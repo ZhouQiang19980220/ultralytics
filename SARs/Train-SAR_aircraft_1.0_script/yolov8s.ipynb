{
 "cells": [
  {
   "cell_type": "code",
   "execution_count": null,
   "metadata": {},
   "outputs": [],
   "source": [
    "import sys\n",
    "sys.path.append('/root/ultralytics/SARs')\n",
    "\n",
    "import ultralytics\n",
    "from ultralytics import YOLO\n",
    "from utils import config_to_dict, generate_name\n",
    "ultralytics.checks()"
   ]
  },
  {
   "cell_type": "code",
   "execution_count": null,
   "metadata": {},
   "outputs": [],
   "source": [
    "# 导入默认训练设置\n",
    "default_config_dict = config_to_dict('../default_training_setting.py')\n",
    "\n",
    "# frequently modify\n",
    "config_dict = dict(\n",
    "    epochs = 100, \n",
    "    batch = -1, \n",
    "    cache = True, \n",
    "    project = \"YOLOv8s-sparse_conv-train\", \n",
    "    name = generate_name(\"train\"),   # YYYY-mm-dd-ssssss\n",
    "    pretrained = False, \n",
    "    close_mosaic = 30, \n",
    "    fraction = 0.1,             #! 一会记得修改\n",
    "    warmup_epochs = 9.0, \n",
    ")\n",
    "default_config_dict.update(config_dict)\n",
    "config_dict = default_config_dict\n",
    "\n",
    "# build a model from scratch\n",
    "model = YOLO('yolov8s_sparse_conv.yaml')\n",
    "\n",
    "# train the model on the “SAR aircraft 1.0” dataset\n",
    "\n",
    "# train setting\n",
    "# https://docs.ultralytics.com/modes/train/#train-settings\n",
    "data_dir = \"datasets/SAR-AIRcraft-1.0-yolo/SAR-AIRcraft-1.0-yolo/SARAIRcraft1.0.yaml\"\n",
    "model.train(\n",
    "    data=data_dir, \n",
    "    **config_dict\n",
    ") "
   ]
  }
 ],
 "metadata": {
  "kernelspec": {
   "display_name": "yolov8",
   "language": "python",
   "name": "python3"
  },
  "language_info": {
   "codemirror_mode": {
    "name": "ipython",
    "version": 3
   },
   "file_extension": ".py",
   "mimetype": "text/x-python",
   "name": "python",
   "nbconvert_exporter": "python",
   "pygments_lexer": "ipython3",
   "version": "3.11.9"
  }
 },
 "nbformat": 4,
 "nbformat_minor": 2
}
